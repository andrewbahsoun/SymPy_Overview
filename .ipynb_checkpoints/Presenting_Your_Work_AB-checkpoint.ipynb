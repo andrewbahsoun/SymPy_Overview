{
 "cells": [
  {
   "cell_type": "markdown",
   "id": "1456814d-d578-4024-be4f-1c6dc237c576",
   "metadata": {},
   "source": [
    "# Presenting my Work Slideshow"
   ]
  },
  {
   "cell_type": "code",
   "execution_count": 1,
   "id": "b011cb32-edf2-4cc8-b4cf-ac4ac4150b73",
   "metadata": {},
   "outputs": [
    {
     "name": "stdout",
     "output_type": "stream",
     "text": [
      "hello world!\n"
     ]
    }
   ],
   "source": [
    "print(\"hello world!\")"
   ]
  },
  {
   "cell_type": "code",
   "execution_count": null,
   "id": "be692d74-af6f-4693-9fbc-80d1af47fd67",
   "metadata": {},
   "outputs": [],
   "source": []
  }
 ],
 "metadata": {
  "kernelspec": {
   "display_name": "Python 3 (ipykernel)",
   "language": "python",
   "name": "python3"
  },
  "language_info": {
   "codemirror_mode": {
    "name": "ipython",
    "version": 3
   },
   "file_extension": ".py",
   "mimetype": "text/x-python",
   "name": "python",
   "nbconvert_exporter": "python",
   "pygments_lexer": "ipython3",
   "version": "3.11.7"
  }
 },
 "nbformat": 4,
 "nbformat_minor": 5
}
