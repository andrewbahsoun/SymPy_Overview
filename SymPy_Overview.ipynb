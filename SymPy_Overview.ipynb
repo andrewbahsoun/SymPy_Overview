{
  "nbformat": 4,
  "nbformat_minor": 0,
  "metadata": {
    "colab": {
      "provenance": []
    },
    "kernelspec": {
      "name": "python3",
      "display_name": "Python 3"
    },
    "language_info": {
      "name": "python"
    }
  },
  "cells": [
    {
      "cell_type": "code",
      "execution_count": null,
      "metadata": {
        "id": "jcz_pgv-TXTB"
      },
      "outputs": [],
      "source": [
        "import sympy as sp\n",
        "import numpy as np"
      ]
    },
    {
      "cell_type": "markdown",
      "source": [
        "# SymPy Overview\n",
        "\n",
        "Andrew Bahsoun & Max Richter\n",
        "\n",
        "12/19/24"
      ],
      "metadata": {
        "id": "9YLhooVfTatP"
      }
    },
    {
      "cell_type": "markdown",
      "source": [
        "## Introduction to SymPy\n",
        "\n",
        "`sympy` stand for \"Symbolic Python\" and is a powerful module for performing analytic mathematical calculations without the constraints of usual numeric types. By convention, its name is shortened to `sp` when imported (see the top cell) so you can type less. (Similarly above, the module \"Numeric Python\" `numpy` is shortened to `np` by convention.)"
      ],
      "metadata": {
        "id": "AaPvRmVoTyTi"
      }
    },
    {
      "cell_type": "markdown",
      "source": [
        "## Symbols and Expressions\n",
        "\n",
        "The simplest use for `sympy` is to manipulate \"expressions\" containing algebraic variables. You need to declare which text symbols should be treated as mathematical symbols as follows:"
      ],
      "metadata": {
        "id": "GECyL2TzWLZ0"
      }
    },
    {
      "cell_type": "code",
      "source": [
        "x, y, z, t = sp.symbols(\"x, y, z, t\")"
      ],
      "metadata": {
        "id": "HFejCGLlTooW"
      },
      "execution_count": null,
      "outputs": []
    },
    {
      "cell_type": "code",
      "source": [
        "type(x)"
      ],
      "metadata": {
        "colab": {
          "base_uri": "https://localhost:8080/"
        },
        "id": "fEgBUDfITvYl",
        "outputId": "dde5cd39-72ee-46ec-dec1-177984aa5f06"
      },
      "execution_count": null,
      "outputs": [
        {
          "output_type": "execute_result",
          "data": {
            "text/plain": [
              "sympy.core.symbol.Symbol"
            ]
          },
          "metadata": {},
          "execution_count": 3
        }
      ]
    },
    {
      "cell_type": "markdown",
      "source": [
        "Then you can make \"expressions\" by combining symbols with usual mathematical operators, or implementations of functions contained in `sympy`:"
      ],
      "metadata": {
        "id": "w4-q8CJXUztl"
      }
    },
    {
      "cell_type": "code",
      "source": [
        "e1 = x + 1"
      ],
      "metadata": {
        "id": "M3hgEC4bUsPs"
      },
      "execution_count": null,
      "outputs": []
    },
    {
      "cell_type": "code",
      "source": [
        "type(e1)"
      ],
      "metadata": {
        "colab": {
          "base_uri": "https://localhost:8080/"
        },
        "id": "BXZtTY_xU-J-",
        "outputId": "66fc2ec0-f557-421b-b183-d8a4b85fbe1c"
      },
      "execution_count": null,
      "outputs": [
        {
          "output_type": "execute_result",
          "data": {
            "text/plain": [
              "sympy.core.add.Add"
            ]
          },
          "metadata": {},
          "execution_count": 5
        }
      ]
    },
    {
      "cell_type": "code",
      "source": [
        "e1"
      ],
      "metadata": {
        "colab": {
          "base_uri": "https://localhost:8080/",
          "height": 39
        },
        "id": "1vA9kkzqU_H2",
        "outputId": "92dd84a3-aff7-4596-b646-8b1572d38ce9"
      },
      "execution_count": null,
      "outputs": [
        {
          "output_type": "execute_result",
          "data": {
            "text/plain": [
              "x + 1"
            ],
            "text/latex": "$\\displaystyle x + 1$"
          },
          "metadata": {},
          "execution_count": 6
        }
      ]
    },
    {
      "cell_type": "markdown",
      "source": [
        "You can combine operations to make more complicated expressions, which are stored as a tree of operations. So this \"Add\" expression becomes part of a \"Mul\" expression for the outer-most multiplication below."
      ],
      "metadata": {
        "id": "uw0T773EVYF_"
      }
    },
    {
      "cell_type": "code",
      "source": [
        "type(e1 * y)"
      ],
      "metadata": {
        "colab": {
          "base_uri": "https://localhost:8080/"
        },
        "id": "uhIo16NkU_8X",
        "outputId": "6a4cda98-3de6-445c-eeb0-f8b4db5c6972"
      },
      "execution_count": null,
      "outputs": [
        {
          "output_type": "execute_result",
          "data": {
            "text/plain": [
              "sympy.core.mul.Mul"
            ]
          },
          "metadata": {},
          "execution_count": 7
        }
      ]
    },
    {
      "cell_type": "code",
      "source": [
        "e1 * y"
      ],
      "metadata": {
        "colab": {
          "base_uri": "https://localhost:8080/",
          "height": 39
        },
        "id": "Bdr1igCoVCWg",
        "outputId": "9a343f9d-a941-4dd2-8de4-2006601c10aa"
      },
      "execution_count": null,
      "outputs": [
        {
          "output_type": "execute_result",
          "data": {
            "text/plain": [
              "y*(x + 1)"
            ],
            "text/latex": "$\\displaystyle y \\left(x + 1\\right)$"
          },
          "metadata": {},
          "execution_count": 8
        }
      ]
    },
    {
      "cell_type": "markdown",
      "source": [
        "If you're curious, you can always expand out the full expression tree to see how it is constructed:"
      ],
      "metadata": {
        "id": "wCbCosOha92U"
      }
    },
    {
      "cell_type": "code",
      "source": [
        "sp.srepr(e1 * y)"
      ],
      "metadata": {
        "colab": {
          "base_uri": "https://localhost:8080/",
          "height": 35
        },
        "id": "cZHn2hRma5Bd",
        "outputId": "13b3dbd8-0765-47d0-a832-774b6ecb1aea"
      },
      "execution_count": null,
      "outputs": [
        {
          "output_type": "execute_result",
          "data": {
            "text/plain": [
              "\"Mul(Symbol('y'), Add(Symbol('x'), Integer(1)))\""
            ],
            "application/vnd.google.colaboratory.intrinsic+json": {
              "type": "string"
            }
          },
          "metadata": {},
          "execution_count": 9
        }
      ]
    },
    {
      "cell_type": "markdown",
      "source": [
        "You can do rudimentary simplification operations on algebraic expressions, like expanding an expression by distributing the product through the sum:"
      ],
      "metadata": {
        "id": "VIfBWMqLWar4"
      }
    },
    {
      "cell_type": "code",
      "source": [
        "sp.expand(e1*y)"
      ],
      "metadata": {
        "colab": {
          "base_uri": "https://localhost:8080/",
          "height": 39
        },
        "id": "sQVNquorWaXL",
        "outputId": "5fed7642-12c0-4b4f-c882-ef178054f7b9"
      },
      "execution_count": null,
      "outputs": [
        {
          "output_type": "execute_result",
          "data": {
            "text/plain": [
              "x*y + y"
            ],
            "text/latex": "$\\displaystyle x y + y$"
          },
          "metadata": {},
          "execution_count": 10
        }
      ]
    },
    {
      "cell_type": "markdown",
      "source": [
        "or factoring an expression into a product of common factors:"
      ],
      "metadata": {
        "id": "JNGz6CTMWuzz"
      }
    },
    {
      "cell_type": "code",
      "source": [
        "sp.factor(y*x + y*z + 3*y)"
      ],
      "metadata": {
        "colab": {
          "base_uri": "https://localhost:8080/",
          "height": 39
        },
        "id": "6mNZoHZYWnEJ",
        "outputId": "3b20f86b-c9be-4c8d-b4c9-3c05730fc40b"
      },
      "execution_count": null,
      "outputs": [
        {
          "output_type": "execute_result",
          "data": {
            "text/plain": [
              "y*(x + z + 3)"
            ],
            "text/latex": "$\\displaystyle y \\left(x + z + 3\\right)$"
          },
          "metadata": {},
          "execution_count": 11
        }
      ]
    },
    {
      "cell_type": "markdown",
      "source": [
        "or computing a partial fraction decomposition of a complicated fraction into a sum of simple fractions:"
      ],
      "metadata": {
        "id": "TuayxQ-dW6mR"
      }
    },
    {
      "cell_type": "code",
      "source": [
        "e2 = sp.apart(1 / (y**2 - 4))\n",
        "e2"
      ],
      "metadata": {
        "colab": {
          "base_uri": "https://localhost:8080/",
          "height": 55
        },
        "id": "ITYZNT_hXA8a",
        "outputId": "3a0bdbdb-f5ce-4aa6-f2a4-5bc7d641b4d8"
      },
      "execution_count": null,
      "outputs": [
        {
          "output_type": "execute_result",
          "data": {
            "text/plain": [
              "-1/(4*(y + 2)) + 1/(4*(y - 2))"
            ],
            "text/latex": "$\\displaystyle - \\frac{1}{4 \\left(y + 2\\right)} + \\frac{1}{4 \\left(y - 2\\right)}$"
          },
          "metadata": {},
          "execution_count": 12
        }
      ]
    },
    {
      "cell_type": "markdown",
      "source": [
        "or generally simplifying an expression into a more compact form:"
      ],
      "metadata": {
        "id": "BXzq7575XO1Q"
      }
    },
    {
      "cell_type": "code",
      "source": [
        "sp.simplify(e2)"
      ],
      "metadata": {
        "colab": {
          "base_uri": "https://localhost:8080/",
          "height": 54
        },
        "id": "RPtTRgPHXMpl",
        "outputId": "8089c162-59d4-46b5-fa5a-f52d2e0f7192"
      },
      "execution_count": null,
      "outputs": [
        {
          "output_type": "execute_result",
          "data": {
            "text/plain": [
              "1/(y**2 - 4)"
            ],
            "text/latex": "$\\displaystyle \\frac{1}{y^{2} - 4}$"
          },
          "metadata": {},
          "execution_count": 13
        }
      ]
    },
    {
      "cell_type": "markdown",
      "source": [
        "These algebraic features are already very useful, since they can help you check your own algebra to ensure you did a derivation correctly. For example, this checks that the two expressions for `e2` above are actually equivalent by subtracting them and simplifying their difference to see if it simplifies all the way to zero."
      ],
      "metadata": {
        "id": "o7U0xXUeXVE3"
      }
    },
    {
      "cell_type": "code",
      "source": [
        "sp.simplify(e2 - (1 / (y**2 - 4))) == 0"
      ],
      "metadata": {
        "colab": {
          "base_uri": "https://localhost:8080/"
        },
        "id": "0WtCGTKjXoMB",
        "outputId": "5189c562-fb7b-4c6e-a1ad-1637a480bd70"
      },
      "execution_count": null,
      "outputs": [
        {
          "output_type": "execute_result",
          "data": {
            "text/plain": [
              "True"
            ]
          },
          "metadata": {},
          "execution_count": 14
        }
      ]
    },
    {
      "cell_type": "markdown",
      "source": [
        "To substitute values into an algebraic expression, use the method `.subs` of that expression:"
      ],
      "metadata": {
        "id": "RXvGF4yznSZj"
      }
    },
    {
      "cell_type": "code",
      "source": [
        "e1.subs(x, 1)"
      ],
      "metadata": {
        "colab": {
          "base_uri": "https://localhost:8080/",
          "height": 37
        },
        "id": "U-rEVV4NnWkN",
        "outputId": "aa3c4f55-d291-4f44-8cf1-b0b7a938afb7"
      },
      "execution_count": null,
      "outputs": [
        {
          "output_type": "execute_result",
          "data": {
            "text/plain": [
              "2"
            ],
            "text/latex": "$\\displaystyle 2$"
          },
          "metadata": {},
          "execution_count": 15
        }
      ]
    },
    {
      "cell_type": "code",
      "source": [
        "e2.subs(y, sp.sqrt(2))"
      ],
      "metadata": {
        "colab": {
          "base_uri": "https://localhost:8080/",
          "height": 59
        },
        "id": "Zbkxv67Antu1",
        "outputId": "8ae31578-5b7c-4971-c612-b0eb70cf18a6"
      },
      "execution_count": null,
      "outputs": [
        {
          "output_type": "execute_result",
          "data": {
            "text/plain": [
              "1/(4*(-2 + sqrt(2))) - 1/(4*(sqrt(2) + 2))"
            ],
            "text/latex": "$\\displaystyle \\frac{1}{4 \\left(-2 + \\sqrt{2}\\right)} - \\frac{1}{4 \\left(\\sqrt{2} + 2\\right)}$"
          },
          "metadata": {},
          "execution_count": 16
        }
      ]
    },
    {
      "cell_type": "code",
      "source": [
        "sp.simplify(e2.subs(y, sp.sqrt(2)))"
      ],
      "metadata": {
        "colab": {
          "base_uri": "https://localhost:8080/",
          "height": 51
        },
        "id": "pZzfcC1foNcP",
        "outputId": "00dacf3d-473a-41f2-a66c-1a4ce7516b98"
      },
      "execution_count": null,
      "outputs": [
        {
          "output_type": "execute_result",
          "data": {
            "text/plain": [
              "-1/2"
            ],
            "text/latex": "$\\displaystyle - \\frac{1}{2}$"
          },
          "metadata": {},
          "execution_count": 17
        }
      ]
    },
    {
      "cell_type": "markdown",
      "source": [
        "To evaluate a numeric expression into floats (to do actual numerical calculations with), use the method `.evalf()`:"
      ],
      "metadata": {
        "id": "5snbmL7An6Nz"
      }
    },
    {
      "cell_type": "code",
      "source": [
        "e2.subs(y, sp.sqrt(2)).evalf()"
      ],
      "metadata": {
        "colab": {
          "base_uri": "https://localhost:8080/",
          "height": 37
        },
        "id": "01kkK0U-oHcL",
        "outputId": "a2e38e58-e87d-4b71-9726-1f74064516b4"
      },
      "execution_count": null,
      "outputs": [
        {
          "output_type": "execute_result",
          "data": {
            "text/plain": [
              "-0.500000000000000"
            ],
            "text/latex": "$\\displaystyle -0.5$"
          },
          "metadata": {},
          "execution_count": 18
        }
      ]
    },
    {
      "cell_type": "markdown",
      "source": [
        "Also note that you can substitute entire expressions into a variable, not just numbers, if you so desire:"
      ],
      "metadata": {
        "id": "vnjFIHfboRg6"
      }
    },
    {
      "cell_type": "code",
      "source": [
        "e2.subs(y, e1)"
      ],
      "metadata": {
        "colab": {
          "base_uri": "https://localhost:8080/",
          "height": 55
        },
        "id": "BcO69-2_oXD8",
        "outputId": "6d768ce0-79dd-4cc0-c4d0-df63a0f6cc2b"
      },
      "execution_count": null,
      "outputs": [
        {
          "output_type": "execute_result",
          "data": {
            "text/plain": [
              "-1/(4*(x + 3)) + 1/(4*(x - 1))"
            ],
            "text/latex": "$\\displaystyle - \\frac{1}{4 \\left(x + 3\\right)} + \\frac{1}{4 \\left(x - 1\\right)}$"
          },
          "metadata": {},
          "execution_count": 19
        }
      ]
    },
    {
      "cell_type": "markdown",
      "source": [
        "## Numeric Precision\n",
        "\n",
        "Unlike with numeric types, symbolic types can have infinite precision. You can see this when dealing with square roots or other operations that produce irrational numbers (that can't be stored numerically without error).\n",
        "\n",
        "Compare the `numpy` implementation of square root or the number pi, which returns a finite precision `float`:"
      ],
      "metadata": {
        "id": "cGXuuEh5Vlof"
      }
    },
    {
      "cell_type": "code",
      "source": [
        "np.sqrt(2)"
      ],
      "metadata": {
        "colab": {
          "base_uri": "https://localhost:8080/"
        },
        "id": "J1fvsGc6V3KN",
        "outputId": "044c813e-812d-452f-dccd-043985a2ebe6"
      },
      "execution_count": null,
      "outputs": [
        {
          "output_type": "execute_result",
          "data": {
            "text/plain": [
              "1.4142135623730951"
            ]
          },
          "metadata": {},
          "execution_count": 20
        }
      ]
    },
    {
      "cell_type": "code",
      "source": [
        "np.pi"
      ],
      "metadata": {
        "colab": {
          "base_uri": "https://localhost:8080/"
        },
        "id": "dE9y9hSEYBWW",
        "outputId": "faf2c14b-82d1-4f2e-e804-a3e6f3d8a36d"
      },
      "execution_count": null,
      "outputs": [
        {
          "output_type": "execute_result",
          "data": {
            "text/plain": [
              "3.141592653589793"
            ]
          },
          "metadata": {},
          "execution_count": 21
        }
      ]
    },
    {
      "cell_type": "code",
      "source": [
        "np.sqrt(2)**2"
      ],
      "metadata": {
        "colab": {
          "base_uri": "https://localhost:8080/"
        },
        "id": "ywAL9n9IVHIU",
        "outputId": "15390889-65a4-41db-aac8-b246b289dacb"
      },
      "execution_count": null,
      "outputs": [
        {
          "output_type": "execute_result",
          "data": {
            "text/plain": [
              "2.0000000000000004"
            ]
          },
          "metadata": {},
          "execution_count": 22
        }
      ]
    },
    {
      "cell_type": "markdown",
      "source": [
        "to the `sympy` implementation of square root, which retains infinite precision when possible:"
      ],
      "metadata": {
        "id": "cReTBEi7WCUD"
      }
    },
    {
      "cell_type": "code",
      "source": [
        "sp.sqrt(2)"
      ],
      "metadata": {
        "colab": {
          "base_uri": "https://localhost:8080/",
          "height": 38
        },
        "id": "YwaXRIW2V5sZ",
        "outputId": "160ef28f-be32-4419-989d-f3b8e252607d"
      },
      "execution_count": null,
      "outputs": [
        {
          "output_type": "execute_result",
          "data": {
            "text/plain": [
              "sqrt(2)"
            ],
            "text/latex": "$\\displaystyle \\sqrt{2}$"
          },
          "metadata": {},
          "execution_count": 23
        }
      ]
    },
    {
      "cell_type": "code",
      "source": [
        "sp.pi"
      ],
      "metadata": {
        "colab": {
          "base_uri": "https://localhost:8080/",
          "height": 38
        },
        "id": "AyGFlNURYGHn",
        "outputId": "aabf5e48-572f-4813-eeaf-a286c9a05b90"
      },
      "execution_count": null,
      "outputs": [
        {
          "output_type": "execute_result",
          "data": {
            "text/plain": [
              "pi"
            ],
            "text/latex": "$\\displaystyle \\pi$"
          },
          "metadata": {},
          "execution_count": 24
        }
      ]
    },
    {
      "cell_type": "code",
      "source": [
        "sp.sqrt(2)**2"
      ],
      "metadata": {
        "colab": {
          "base_uri": "https://localhost:8080/",
          "height": 37
        },
        "id": "4qUVadPuVz6c",
        "outputId": "b2073eea-ca5e-401d-fbb4-30b745a92595"
      },
      "execution_count": null,
      "outputs": [
        {
          "output_type": "execute_result",
          "data": {
            "text/plain": [
              "2"
            ],
            "text/latex": "$\\displaystyle 2$"
          },
          "metadata": {},
          "execution_count": 25
        }
      ]
    },
    {
      "cell_type": "markdown",
      "source": [
        "For a more dramatic example, look how Euler's famous expression $e^{\\pi i}$ simplifies numerically versus symbolically:"
      ],
      "metadata": {
        "id": "Hvk7_zeYYd0z"
      }
    },
    {
      "cell_type": "code",
      "source": [
        "np.exp(np.pi*1j)"
      ],
      "metadata": {
        "colab": {
          "base_uri": "https://localhost:8080/"
        },
        "id": "iKFjVby4YKtj",
        "outputId": "ed0519e1-89d1-49f6-b7a4-5d1e8d13e62b"
      },
      "execution_count": null,
      "outputs": [
        {
          "output_type": "execute_result",
          "data": {
            "text/plain": [
              "(-1+1.2246467991473532e-16j)"
            ]
          },
          "metadata": {},
          "execution_count": 26
        }
      ]
    },
    {
      "cell_type": "code",
      "source": [
        "sp.exp(sp.pi*sp.I)"
      ],
      "metadata": {
        "colab": {
          "base_uri": "https://localhost:8080/",
          "height": 37
        },
        "id": "Alrb3iJ5V1Vl",
        "outputId": "57260740-39a4-40f1-ec4f-1dd4a300d5ae"
      },
      "execution_count": null,
      "outputs": [
        {
          "output_type": "execute_result",
          "data": {
            "text/plain": [
              "-1"
            ],
            "text/latex": "$\\displaystyle -1$"
          },
          "metadata": {},
          "execution_count": 27
        }
      ]
    },
    {
      "cell_type": "markdown",
      "source": [
        "## Equations\n",
        "\n",
        "To create an equation that you wish to solve for a particular variable, use the syntax:"
      ],
      "metadata": {
        "id": "FKmIxP9zbhq_"
      }
    },
    {
      "cell_type": "code",
      "source": [
        "e3 = sp.Eq(x**2, 1)\n",
        "e3"
      ],
      "metadata": {
        "colab": {
          "base_uri": "https://localhost:8080/",
          "height": 38
        },
        "id": "IsmCU4AGbqfC",
        "outputId": "ea1cc8f3-e034-45d2-eccb-d1b2ffca20fe"
      },
      "execution_count": null,
      "outputs": [
        {
          "output_type": "execute_result",
          "data": {
            "text/plain": [
              "Eq(x**2, 1)"
            ],
            "text/latex": "$\\displaystyle x^{2} = 1$"
          },
          "metadata": {},
          "execution_count": 28
        }
      ]
    },
    {
      "cell_type": "markdown",
      "source": [
        "You can then solve such an equation for a particular variable using `sp.solveset` or `sp.solve` or `sp.linsolve` or `sp.nonlinsolve`:"
      ],
      "metadata": {
        "id": "vlRP1VJCbxz-"
      }
    },
    {
      "cell_type": "code",
      "source": [
        "sp.solveset(e3, x)"
      ],
      "metadata": {
        "colab": {
          "base_uri": "https://localhost:8080/",
          "height": 37
        },
        "id": "Jjc5ug-db14H",
        "outputId": "bc339511-a1d2-4603-e6a3-dbfb5dbeed9a"
      },
      "execution_count": null,
      "outputs": [
        {
          "output_type": "execute_result",
          "data": {
            "text/plain": [
              "{-1, 1}"
            ],
            "text/latex": "$\\displaystyle \\left\\{-1, 1\\right\\}$"
          },
          "metadata": {},
          "execution_count": 29
        }
      ]
    },
    {
      "cell_type": "markdown",
      "source": [
        "Systems of multiple equations can be made using a list of equations:"
      ],
      "metadata": {
        "id": "-bpY_Cp8b6JP"
      }
    },
    {
      "cell_type": "code",
      "source": [
        "es = [sp.Eq(x + y, 1), sp.Eq(x - y, 2)]\n",
        "es"
      ],
      "metadata": {
        "colab": {
          "base_uri": "https://localhost:8080/"
        },
        "id": "ssKxjRppb_So",
        "outputId": "3195fd00-4bd7-41bf-f439-45677a070938"
      },
      "execution_count": null,
      "outputs": [
        {
          "output_type": "execute_result",
          "data": {
            "text/plain": [
              "[Eq(x + y, 1), Eq(x - y, 2)]"
            ]
          },
          "metadata": {},
          "execution_count": 30
        }
      ]
    },
    {
      "cell_type": "code",
      "source": [
        "sp.solve(es, (x,y))"
      ],
      "metadata": {
        "colab": {
          "base_uri": "https://localhost:8080/"
        },
        "id": "KkMx-Le9cglK",
        "outputId": "e2b2358a-c461-4c85-a4d9-893bb2067c7c"
      },
      "execution_count": null,
      "outputs": [
        {
          "output_type": "execute_result",
          "data": {
            "text/plain": [
              "{x: 3/2, y: -1/2}"
            ]
          },
          "metadata": {},
          "execution_count": 31
        }
      ]
    },
    {
      "cell_type": "code",
      "source": [
        "sp.nonlinsolve(es, (x,y))"
      ],
      "metadata": {
        "colab": {
          "base_uri": "https://localhost:8080/",
          "height": 58
        },
        "id": "o0fAWhJ2doKs",
        "outputId": "9b81771b-be0f-4bca-e5d8-09b2cacabb0a"
      },
      "execution_count": null,
      "outputs": [
        {
          "output_type": "execute_result",
          "data": {
            "text/plain": [
              "{(3/2, -1/2)}"
            ],
            "text/latex": "$\\displaystyle \\left\\{\\left( \\frac{3}{2}, \\  - \\frac{1}{2}\\right)\\right\\}$"
          },
          "metadata": {},
          "execution_count": 32
        }
      ]
    },
    {
      "cell_type": "markdown",
      "source": [
        "## Calculus\n",
        "\n",
        "In addition to basic algebraic operations, `sympy` also has calculus features, like differentiation:"
      ],
      "metadata": {
        "id": "Z6Plxd1QY0LD"
      }
    },
    {
      "cell_type": "code",
      "source": [
        "e1"
      ],
      "metadata": {
        "colab": {
          "base_uri": "https://localhost:8080/",
          "height": 38
        },
        "id": "581A5WmvYW-b",
        "outputId": "130fd312-6a4a-4506-8a86-c8e39ee3809e"
      },
      "execution_count": null,
      "outputs": [
        {
          "output_type": "execute_result",
          "data": {
            "text/plain": [
              "x + 1"
            ],
            "text/latex": "$\\displaystyle x + 1$"
          },
          "metadata": {},
          "execution_count": 33
        }
      ]
    },
    {
      "cell_type": "code",
      "source": [
        "sp.diff(e1, x)"
      ],
      "metadata": {
        "colab": {
          "base_uri": "https://localhost:8080/",
          "height": 37
        },
        "id": "7DyJGzdLY9B5",
        "outputId": "4a049910-cf35-4705-b27e-03e973abe7e4"
      },
      "execution_count": null,
      "outputs": [
        {
          "output_type": "execute_result",
          "data": {
            "text/plain": [
              "1"
            ],
            "text/latex": "$\\displaystyle 1$"
          },
          "metadata": {},
          "execution_count": 34
        }
      ]
    },
    {
      "cell_type": "code",
      "source": [
        "e2"
      ],
      "metadata": {
        "colab": {
          "base_uri": "https://localhost:8080/",
          "height": 55
        },
        "id": "t1osP0dpY-tb",
        "outputId": "16732dd8-336b-4e02-9c5f-8b5cc59864b2"
      },
      "execution_count": null,
      "outputs": [
        {
          "output_type": "execute_result",
          "data": {
            "text/plain": [
              "-1/(4*(y + 2)) + 1/(4*(y - 2))"
            ],
            "text/latex": "$\\displaystyle - \\frac{1}{4 \\left(y + 2\\right)} + \\frac{1}{4 \\left(y - 2\\right)}$"
          },
          "metadata": {},
          "execution_count": 35
        }
      ]
    },
    {
      "cell_type": "code",
      "source": [
        "sp.diff(e2, y)"
      ],
      "metadata": {
        "colab": {
          "base_uri": "https://localhost:8080/",
          "height": 58
        },
        "id": "NFtOxH4UZAc9",
        "outputId": "6aa82054-9eeb-4324-e32e-25fb9a360b3a"
      },
      "execution_count": null,
      "outputs": [
        {
          "output_type": "execute_result",
          "data": {
            "text/plain": [
              "1/(4*(y + 2)**2) - 1/(4*(y - 2)**2)"
            ],
            "text/latex": "$\\displaystyle \\frac{1}{4 \\left(y + 2\\right)^{2}} - \\frac{1}{4 \\left(y - 2\\right)^{2}}$"
          },
          "metadata": {},
          "execution_count": 36
        }
      ]
    },
    {
      "cell_type": "markdown",
      "source": [
        "and integration (which without arguments is antidifferentiation assuming a zero added constant):\n",
        "\n"
      ],
      "metadata": {
        "id": "SQTVhl3GZFhk"
      }
    },
    {
      "cell_type": "code",
      "source": [
        "sp.integrate(e1)"
      ],
      "metadata": {
        "colab": {
          "base_uri": "https://localhost:8080/",
          "height": 54
        },
        "id": "i-QWX3PXZCKv",
        "outputId": "bbb8f5c4-ab50-43fc-9d1e-112e116e5b27"
      },
      "execution_count": null,
      "outputs": [
        {
          "output_type": "execute_result",
          "data": {
            "text/plain": [
              "x**2/2 + x"
            ],
            "text/latex": "$\\displaystyle \\frac{x^{2}}{2} + x$"
          },
          "metadata": {},
          "execution_count": 37
        }
      ]
    },
    {
      "cell_type": "code",
      "source": [
        "sp.integrate(e2)"
      ],
      "metadata": {
        "colab": {
          "base_uri": "https://localhost:8080/",
          "height": 53
        },
        "id": "G8-JQn4oZLQy",
        "outputId": "3c51c0ac-49b3-44fb-e967-e9f6db7aabf3"
      },
      "execution_count": null,
      "outputs": [
        {
          "output_type": "execute_result",
          "data": {
            "text/plain": [
              "log(y - 2)/4 - log(y + 2)/4"
            ],
            "text/latex": "$\\displaystyle \\frac{\\log{\\left(y - 2 \\right)}}{4} - \\frac{\\log{\\left(y + 2 \\right)}}{4}$"
          },
          "metadata": {},
          "execution_count": 38
        }
      ]
    },
    {
      "cell_type": "code",
      "source": [
        "sp.integrate(e2, x)"
      ],
      "metadata": {
        "colab": {
          "base_uri": "https://localhost:8080/",
          "height": 58
        },
        "id": "J4qW1Xh0ZWPn",
        "outputId": "e709aff5-ba5b-4045-a31c-64a82fca3720"
      },
      "execution_count": null,
      "outputs": [
        {
          "output_type": "execute_result",
          "data": {
            "text/plain": [
              "x*(-1/(4*(y + 2)) + 1/(4*(y - 2)))"
            ],
            "text/latex": "$\\displaystyle x \\left(- \\frac{1}{4 \\left(y + 2\\right)} + \\frac{1}{4 \\left(y - 2\\right)}\\right)$"
          },
          "metadata": {},
          "execution_count": 39
        }
      ]
    },
    {
      "cell_type": "markdown",
      "source": [
        "You can also specify precise bounds for the integral:"
      ],
      "metadata": {
        "id": "WfdyaM_nZqrj"
      }
    },
    {
      "cell_type": "code",
      "source": [
        "sp.integrate(e2, (y, -1, 1))"
      ],
      "metadata": {
        "colab": {
          "base_uri": "https://localhost:8080/",
          "height": 53
        },
        "id": "28_Kky5NZYRb",
        "outputId": "a7ee10be-3989-4f97-de02-cf2660750adc"
      },
      "execution_count": null,
      "outputs": [
        {
          "output_type": "execute_result",
          "data": {
            "text/plain": [
              "-log(3)/2"
            ],
            "text/latex": "$\\displaystyle - \\frac{\\log{\\left(3 \\right)}}{2}$"
          },
          "metadata": {},
          "execution_count": 40
        }
      ]
    },
    {
      "cell_type": "code",
      "source": [
        "sp.integrate(e2, (y, x, z))"
      ],
      "metadata": {
        "colab": {
          "base_uri": "https://localhost:8080/",
          "height": 53
        },
        "id": "epVqB3mkZdrF",
        "outputId": "3e36606b-c3a8-40f3-8283-9cae631164e4"
      },
      "execution_count": null,
      "outputs": [
        {
          "output_type": "execute_result",
          "data": {
            "text/plain": [
              "-log(x - 2)/4 + log(x + 2)/4 + log(z - 2)/4 - log(z + 2)/4"
            ],
            "text/latex": "$\\displaystyle - \\frac{\\log{\\left(x - 2 \\right)}}{4} + \\frac{\\log{\\left(x + 2 \\right)}}{4} + \\frac{\\log{\\left(z - 2 \\right)}}{4} - \\frac{\\log{\\left(z + 2 \\right)}}{4}$"
          },
          "metadata": {},
          "execution_count": 41
        }
      ]
    },
    {
      "cell_type": "markdown",
      "source": [
        "`sympy` can also take limits of expressions:"
      ],
      "metadata": {
        "id": "b7Z-xJeHaBiA"
      }
    },
    {
      "cell_type": "code",
      "source": [
        "sp.limit(sp.sin(x)/x, x, 0)"
      ],
      "metadata": {
        "colab": {
          "base_uri": "https://localhost:8080/",
          "height": 37
        },
        "id": "RJapRzjAZhZ2",
        "outputId": "81dd1c90-5faf-417e-c3ef-206082cc0f07"
      },
      "execution_count": null,
      "outputs": [
        {
          "output_type": "execute_result",
          "data": {
            "text/plain": [
              "1"
            ],
            "text/latex": "$\\displaystyle 1$"
          },
          "metadata": {},
          "execution_count": 42
        }
      ]
    },
    {
      "cell_type": "markdown",
      "source": [
        "or compute Taylor expansions:"
      ],
      "metadata": {
        "id": "BDFsaQ1QaR4y"
      }
    },
    {
      "cell_type": "code",
      "source": [
        "sp.exp(x).series(x, 0, 4)"
      ],
      "metadata": {
        "colab": {
          "base_uri": "https://localhost:8080/",
          "height": 54
        },
        "id": "xy-VlUklaKgJ",
        "outputId": "945bdc56-8b6b-467d-f768-06910ece82ab"
      },
      "execution_count": null,
      "outputs": [
        {
          "output_type": "execute_result",
          "data": {
            "text/plain": [
              "1 + x + x**2/2 + x**3/6 + O(x**4)"
            ],
            "text/latex": "$\\displaystyle 1 + x + \\frac{x^{2}}{2} + \\frac{x^{3}}{6} + O\\left(x^{4}\\right)$"
          },
          "metadata": {},
          "execution_count": 43
        }
      ]
    },
    {
      "cell_type": "code",
      "source": [
        "sp.cos(x).series(x, 0, 4)"
      ],
      "metadata": {
        "colab": {
          "base_uri": "https://localhost:8080/",
          "height": 54
        },
        "id": "2RS41BvwaXCV",
        "outputId": "fff3c773-ceb8-4765-992f-8eb3e0d2bc8f"
      },
      "execution_count": null,
      "outputs": [
        {
          "output_type": "execute_result",
          "data": {
            "text/plain": [
              "1 - x**2/2 + O(x**4)"
            ],
            "text/latex": "$\\displaystyle 1 - \\frac{x^{2}}{2} + O\\left(x^{4}\\right)$"
          },
          "metadata": {},
          "execution_count": 44
        }
      ]
    },
    {
      "cell_type": "code",
      "source": [
        "sp.sin(x).series(x, 0, 4)"
      ],
      "metadata": {
        "colab": {
          "base_uri": "https://localhost:8080/",
          "height": 54
        },
        "id": "qntRhp2vanQ0",
        "outputId": "626c239f-23b6-4a3b-beec-ddf8855ee400"
      },
      "execution_count": null,
      "outputs": [
        {
          "output_type": "execute_result",
          "data": {
            "text/plain": [
              "x - x**3/6 + O(x**4)"
            ],
            "text/latex": "$\\displaystyle x - \\frac{x^{3}}{6} + O\\left(x^{4}\\right)$"
          },
          "metadata": {},
          "execution_count": 45
        }
      ]
    },
    {
      "cell_type": "code",
      "source": [
        "sp.exp(x).series(x, -2, 3)"
      ],
      "metadata": {
        "colab": {
          "base_uri": "https://localhost:8080/",
          "height": 56
        },
        "id": "5qJbWkEJapXZ",
        "outputId": "21aeda08-86d6-416b-9909-40913bcd0008"
      },
      "execution_count": null,
      "outputs": [
        {
          "output_type": "execute_result",
          "data": {
            "text/plain": [
              "exp(-2) + (x + 2)*exp(-2) + (x + 2)**2*exp(-2)/2 + O((x + 2)**3, (x, -2))"
            ],
            "text/latex": "$\\displaystyle e^{-2} + \\frac{x + 2}{e^{2}} + \\frac{\\left(x + 2\\right)^{2}}{2 e^{2}} + O\\left(\\left(x + 2\\right)^{3}; x\\rightarrow -2\\right)$"
          },
          "metadata": {},
          "execution_count": 46
        }
      ]
    },
    {
      "cell_type": "code",
      "source": [],
      "metadata": {
        "id": "_wzGJ1Pjasbe"
      },
      "execution_count": null,
      "outputs": []
    },
    {
      "cell_type": "markdown",
      "source": [
        "## Plotting\n",
        "\n",
        "Another useful feature of `sympy` is that it hooks into `matplotlib` to make plotting functions very convenient."
      ],
      "metadata": {
        "id": "6WbObqqkd0qS"
      }
    },
    {
      "cell_type": "code",
      "source": [
        "sp.plot(sp.sin(x), sp.cos(x), sp.tan(x), (x, 0, 2*sp.pi), title=\"Trig functions\", legend=True, ylim=(-2, 2))"
      ],
      "metadata": {
        "colab": {
          "base_uri": "https://localhost:8080/",
          "height": 504
        },
        "id": "CL_dsxjSd8QN",
        "outputId": "7dedcbbd-3ec2-406e-b78c-0716fdd42542"
      },
      "execution_count": null,
      "outputs": [
        {
          "output_type": "display_data",
          "data": {
            "text/plain": [
              "<Figure size 640x480 with 1 Axes>"
            ],
            "image/png": "[encoded data removed]"
          },
          "metadata": {}
        },
        {
          "output_type": "execute_result",
          "data": {
            "text/plain": [
              "<sympy.plotting.plot.Plot at 0x7f340e091420>"
            ]
          },
          "metadata": {},
          "execution_count": 47
        }
      ]
    },
    {
      "cell_type": "markdown",
      "source": [
        "It even handles parametric plots:"
      ],
      "metadata": {
        "id": "Y0az5ALli3ys"
      }
    },
    {
      "cell_type": "code",
      "source": [
        "sp.plot_parametric((sp.cos(z), sp.sin(z)), (z, sp.sin(z)), (sp.cos(z), z), (z, 0, 2*sp.pi))"
      ],
      "metadata": {
        "colab": {
          "base_uri": "https://localhost:8080/",
          "height": 504
        },
        "id": "HvMEahBji6nF",
        "outputId": "1a7ecbc7-09d1-4017-e0cd-16ea6e58130e"
      },
      "execution_count": null,
      "outputs": [
        {
          "output_type": "display_data",
          "data": {
            "text/plain": [
              "<Figure size 640x480 with 1 Axes>"
            ],
            "image/png": "[encoded data removed]"
          },
          "metadata": {}
        },
        {
          "output_type": "execute_result",
          "data": {
            "text/plain": [
              "<sympy.plotting.plot.Plot at 0x7f340ded8cd0>"
            ]
          },
          "metadata": {},
          "execution_count": 48
        }
      ]
    },
    {
      "cell_type": "markdown",
      "source": [
        "## Exercises\n",
        "\n",
        "With your group, go through the notebook above to familiarize yourself with how `sympy` works. Then complete the following exercises below, using `sympy`:"
      ],
      "metadata": {
        "id": "kt4FvV3TflvQ"
      }
    },
    {
      "cell_type": "markdown",
      "source": [
        "### 1. Function extrema\n",
        "\n",
        "Consider the function $g(x) = 4 x^3 + 3 x^2 - 6 x - 1$. Find the points $x$ where $g(x)$ is at an extremum (minimum or maximum, not at infinity) and find the values of the function at those points. (Hint: Use a derivative.) Show which extrema are maxima and which are minima. (Hint: Use a second derivative.)\n",
        "\n",
        "Plot the function in a suitable domain and verify that you found the points and values correctly."
      ],
      "metadata": {
        "id": "N0_ZJmRAfwVq"
      }
    },
    {
      "cell_type": "code",
      "source": [
        "# create the function g(x)\n",
        "x = sp.symbols('x')\n",
        "gx = 4*x**3 + 3*x**2 - 6*x - 1\n",
        "gx"
      ],
      "metadata": {
        "id": "ab9MdiMKeG1f",
        "colab": {
          "base_uri": "https://localhost:8080/",
          "height": 39
        },
        "outputId": "7d25aa00-2fa0-476e-c6bd-427b1dfc6e6a"
      },
      "execution_count": null,
      "outputs": [
        {
          "output_type": "execute_result",
          "data": {
            "text/plain": [
              "4*x**3 + 3*x**2 - 6*x - 1"
            ],
            "text/latex": "$\\displaystyle 4 x^{3} + 3 x^{2} - 6 x - 1$"
          },
          "metadata": {},
          "execution_count": 19
        }
      ]
    },
    {
      "cell_type": "code",
      "source": [
        "# take the derivative of g(x)\n",
        "gxp = sp.diff(gx)\n",
        "gxp\n",
        "#make gxp an equation\n",
        "gxp_eq = sp.Eq(gxp, 0)\n",
        "gxp_eq"
      ],
      "metadata": {
        "colab": {
          "base_uri": "https://localhost:8080/",
          "height": 39
        },
        "id": "ZFOH1wsgJp6A",
        "outputId": "a79d4315-1900-4d43-c002-48b22371083c"
      },
      "execution_count": null,
      "outputs": [
        {
          "output_type": "execute_result",
          "data": {
            "text/plain": [
              "Eq(12*x**2 + 6*x - 6, 0)"
            ],
            "text/latex": "$\\displaystyle 12 x^{2} + 6 x - 6 = 0$"
          },
          "metadata": {},
          "execution_count": 23
        }
      ]
    },
    {
      "cell_type": "code",
      "source": [
        "#solve for x and find critical points (location of extrema)\n",
        "#converts to list to be accessed later\n",
        "solutions_list = list(sp.solveset(gxp_eq, x))\n",
        "solutions_list"
      ],
      "metadata": {
        "colab": {
          "base_uri": "https://localhost:8080/"
        },
        "id": "FVNmoWOLMQEI",
        "outputId": "c28540a0-d7b4-4383-eaee-27f51c905b84"
      },
      "execution_count": null,
      "outputs": [
        {
          "output_type": "execute_result",
          "data": {
            "text/plain": [
              "[-1, 1/2]"
            ]
          },
          "metadata": {},
          "execution_count": 58
        }
      ]
    },
    {
      "cell_type": "code",
      "source": [
        "# get second derirvative of gx\n",
        "gxp2 = sp.diff(gxp)\n",
        "gxp2\n",
        "\n",
        "#take value of extrema as variable\n",
        "val_gxp2e = gxp2.subs(x, -1)\n",
        "val_gxp2e2 = gxp2.subs(x, 1/2)\n",
        "\n",
        "#logic for determinding minima or maxima\n",
        "if (val_gxp2e) > 0:\n",
        "  print(solutions_list[0], \"is minima\")\n",
        "else:\n",
        "  print(solutions_list[0], \"is maximum\")\n",
        "\n",
        "if (val_gxp2e2) > 0:\n",
        "  print(solutions_list[1], \"is minima\")\n",
        "else:\n",
        "  print(solutions_list[1], \"is maxima\")\n"
      ],
      "metadata": {
        "colab": {
          "base_uri": "https://localhost:8080/"
        },
        "id": "pQH0zgJCNfgc",
        "outputId": "9714f901-4049-4c67-c8e8-c7a0805e4bd0"
      },
      "execution_count": null,
      "outputs": [
        {
          "output_type": "stream",
          "name": "stdout",
          "text": [
            "-1 is maximum\n",
            "1/2 is minima\n"
          ]
        }
      ]
    },
    {
      "cell_type": "code",
      "source": [
        "#plot graph using sp\n",
        "sp.plot((gx), title=\"g(x) graph\", legend=True, ylim=(-10, 10), xlim=(-3,3))\n",
        "# the graph shows that there is a maximum at -1 and minima and 1/2,\n",
        "# this corresponds to our information in the logic"
      ],
      "metadata": {
        "colab": {
          "base_uri": "https://localhost:8080/",
          "height": 503
        },
        "id": "Uep6p7V0PHhe",
        "outputId": "701dcc30-47fc-462d-8db7-c5b056f15dab"
      },
      "execution_count": null,
      "outputs": [
        {
          "output_type": "display_data",
          "data": {
            "text/plain": [
              "<Figure size 640x480 with 1 Axes>"
            ],
            "image/png": "[encoded data removed]"
          },
          "metadata": {}
        },
        {
          "output_type": "execute_result",
          "data": {
            "text/plain": [
              "<sympy.plotting.plot.Plot at 0x7d5f22ac0760>"
            ]
          },
          "metadata": {},
          "execution_count": 62
        }
      ]
    },
    {
      "cell_type": "markdown",
      "source": [
        "### 2. Particle motion\n",
        "\n",
        "The parametric equations for the motion of a charged particle released from rest in electric and magnetic fields at right angles to each other take the forms,\n",
        "$$ x(\\theta) = a(\\theta - \\sin\\theta),$$\n",
        "$$ y(\\theta) = a(1 - \\cos\\theta),$$\n",
        "with a real constant $a$.\n",
        "\n",
        "Show that the line tangent to this curve at the point $(x(\\theta),y(\\theta))$ has the slope $\\displaystyle \\frac{dy}{dx}(\\theta) = \\frac{(dy/d\\theta)(\\theta)}{(dx/d\\theta)(\\theta)}= \\cot(\\theta/2)$.\n",
        "\n",
        "Where does this slope vanish? Where does the slope diverge?\n",
        "\n",
        "Plot the curve of the particle parametrically to see what this looks like. Explain where the points are on the curve where the slope vanishes or diverges."
      ],
      "metadata": {
        "id": "XJebU0ODhEE-"
      }
    },
    {
      "cell_type": "code",
      "source": [
        "x = sp.symbols('x')\n",
        "y = sp.symbols('y')\n",
        "theta = sp.symbols('theta')\n",
        "a = sp.symbols('a', constant=True)"
      ],
      "metadata": {
        "id": "4Ck1pILSEPle"
      },
      "execution_count": null,
      "outputs": []
    },
    {
      "cell_type": "code",
      "source": [
        "xtheta = a*(theta - sp.sin(theta))\n",
        "xtheta"
      ],
      "metadata": {
        "id": "SrFPSenIMPK2",
        "colab": {
          "base_uri": "https://localhost:8080/",
          "height": 39
        },
        "outputId": "9d609446-96f0-4802-fe17-e4bb91f2494a"
      },
      "execution_count": null,
      "outputs": [
        {
          "output_type": "execute_result",
          "data": {
            "text/plain": [
              "theta - sin(theta)"
            ],
            "text/latex": "$\\displaystyle \\theta - \\sin{\\left(\\theta \\right)}$"
          },
          "metadata": {},
          "execution_count": 53
        }
      ]
    },
    {
      "cell_type": "code",
      "source": [
        "ytheta = a*(1 - sp.cos(theta))\n",
        "ytheta"
      ],
      "metadata": {
        "id": "bLt7C9qHjzBh",
        "colab": {
          "base_uri": "https://localhost:8080/",
          "height": 39
        },
        "outputId": "42f46c4e-4c23-4ab8-ce25-bd1ec8e45ae3"
      },
      "execution_count": null,
      "outputs": [
        {
          "output_type": "execute_result",
          "data": {
            "text/plain": [
              "a*(1 - cos(theta))"
            ],
            "text/latex": "$\\displaystyle a \\left(1 - \\cos{\\left(\\theta \\right)}\\right)$"
          },
          "metadata": {},
          "execution_count": 47
        }
      ]
    },
    {
      "cell_type": "code",
      "source": [
        "xthetap = sp.diff(xtheta, theta)\n",
        "xthetap"
      ],
      "metadata": {
        "colab": {
          "base_uri": "https://localhost:8080/",
          "height": 39
        },
        "id": "IHJyWXUoETPq",
        "outputId": "55f29bdc-11f8-4c96-a1f1-35869a2703d3"
      },
      "execution_count": null,
      "outputs": [
        {
          "output_type": "execute_result",
          "data": {
            "text/plain": [
              "a*(1 - cos(theta))"
            ],
            "text/latex": "$\\displaystyle a \\left(1 - \\cos{\\left(\\theta \\right)}\\right)$"
          },
          "metadata": {},
          "execution_count": 48
        }
      ]
    },
    {
      "cell_type": "code",
      "source": [
        "ythetap = sp.diff(ytheta, theta)\n",
        "ythetap"
      ],
      "metadata": {
        "colab": {
          "base_uri": "https://localhost:8080/",
          "height": 39
        },
        "id": "IIORl9X6E2EN",
        "outputId": "389bdb0b-19c1-4e43-921a-55e039c3f38f"
      },
      "execution_count": null,
      "outputs": [
        {
          "output_type": "execute_result",
          "data": {
            "text/plain": [
              "a*sin(theta)"
            ],
            "text/latex": "$\\displaystyle a \\sin{\\left(\\theta \\right)}$"
          },
          "metadata": {},
          "execution_count": 49
        }
      ]
    },
    {
      "cell_type": "code",
      "source": [
        "exp = ythetap/xthetap\n",
        "exp"
      ],
      "metadata": {
        "colab": {
          "base_uri": "https://localhost:8080/",
          "height": 57
        },
        "id": "5YHVDlulE_9k",
        "outputId": "462955f5-7a79-45b5-cb8a-4b034e54c8f2"
      },
      "execution_count": null,
      "outputs": [
        {
          "output_type": "execute_result",
          "data": {
            "text/plain": [
              "sin(theta)/(1 - cos(theta))"
            ],
            "text/latex": "$\\displaystyle \\frac{\\sin{\\left(\\theta \\right)}}{1 - \\cos{\\left(\\theta \\right)}}$"
          },
          "metadata": {},
          "execution_count": 50
        }
      ]
    },
    {
      "cell_type": "code",
      "source": [
        "sp.trigsimp(exp)\n",
        "exp"
      ],
      "metadata": {
        "colab": {
          "base_uri": "https://localhost:8080/",
          "height": 57
        },
        "id": "2YZ-R_ElFXK9",
        "outputId": "5b0114b5-7d6a-4134-aec8-c31ea1f69396"
      },
      "execution_count": null,
      "outputs": [
        {
          "output_type": "execute_result",
          "data": {
            "text/plain": [
              "sin(theta)/(1 - cos(theta))"
            ],
            "text/latex": "$\\displaystyle \\frac{\\sin{\\left(\\theta \\right)}}{1 - \\cos{\\left(\\theta \\right)}}$"
          },
          "metadata": {},
          "execution_count": 51
        }
      ]
    },
    {
      "cell_type": "code",
      "source": [
        "exp2 = sp.cot(theta/2)\n",
        "\n",
        "eq = sp.Eq(exp, exp2)\n",
        "solution = sp.solve(eq)\n",
        "solution"
      ],
      "metadata": {
        "colab": {
          "base_uri": "https://localhost:8080/"
        },
        "id": "AinG8J9XJCXr",
        "outputId": "6d595bb9-db0b-4c14-96ab-bbd1d8c2c73d"
      },
      "execution_count": null,
      "outputs": [
        {
          "output_type": "execute_result",
          "data": {
            "text/plain": [
              "[]"
            ]
          },
          "metadata": {},
          "execution_count": 59
        }
      ]
    },
    {
      "cell_type": "markdown",
      "source": [
        "solution being empty means the equality holds true"
      ],
      "metadata": {
        "id": "uF1ffecaJaDS"
      }
    },
    {
      "cell_type": "code",
      "source": [
        "xtheta_plot = (theta - sp.sin(theta))\n",
        "ytheta_plot = (1 - sp.cos(theta))\n",
        "sp.plot_parametric(xtheta_plot, ytheta_plot, (theta, -sp.pi, sp.pi))"
      ],
      "metadata": {
        "colab": {
          "base_uri": "https://localhost:8080/",
          "height": 501
        },
        "id": "2slos5jXF8dH",
        "outputId": "4098050d-380d-4015-954c-dcc087a20ccc"
      },
      "execution_count": null,
      "outputs": [
        {
          "output_type": "display_data",
          "data": {
            "text/plain": [
              "<Figure size 640x480 with 1 Axes>"
            ],
            "image/png": "[encoded data removed]"
          },
          "metadata": {}
        },
        {
          "output_type": "execute_result",
          "data": {
            "text/plain": [
              "<sympy.plotting.plot.Plot at 0x7a0649fac460>"
            ]
          },
          "metadata": {},
          "execution_count": 55
        }
      ]
    },
    {
      "cell_type": "markdown",
      "source": [],
      "metadata": {
        "id": "qaLuZXIfJmx4"
      }
    },
    {
      "cell_type": "markdown",
      "source": [
        "### 3. Integration\n",
        "\n",
        "Find the integral of the following function with respect to $x$, from $x=0$ to $x=x$,\n",
        "$$g(x) = \\frac{x^3 + 5 x^2 + 8 x + 12}{2 x^2 + 10 x + 12},$$\n",
        "using two different methods:\n",
        "\n",
        "1. First decompose the function into a sum of simpler partial fractions. Then integrate each term separately with `sp.integrate` and add the results together.\n",
        "1. Integrate the whole function directly with `sp.integrate`.\n",
        "\n",
        "Plot both the original function and its integral to see what they look like, in the domain $x\\in[-4,1]$.\n"
      ],
      "metadata": {
        "id": "x_WUxnGukLMo"
      }
    },
    {
      "cell_type": "code",
      "source": [
        "gx = (x**3 + 5*x**2 + 8*x + 12)/(2*x**2 + 10*x + 12)\n",
        "gx"
      ],
      "metadata": {
        "id": "_Km9QWo7lVnF",
        "colab": {
          "base_uri": "https://localhost:8080/",
          "height": 55
        },
        "outputId": "8fae0bab-585e-469d-d690-0469bcfd32bb"
      },
      "execution_count": null,
      "outputs": [
        {
          "output_type": "execute_result",
          "data": {
            "text/plain": [
              "(x**3 + 5*x**2 + 8*x + 12)/(2*x**2 + 10*x + 12)"
            ],
            "text/latex": "$\\displaystyle \\frac{x^{3} + 5 x^{2} + 8 x + 12}{2 x^{2} + 10 x + 12}$"
          },
          "metadata": {},
          "execution_count": 81
        }
      ]
    },
    {
      "cell_type": "code",
      "source": [
        "sp.integrate(gx)"
      ],
      "metadata": {
        "colab": {
          "base_uri": "https://localhost:8080/",
          "height": 54
        },
        "id": "XTH-BTvVJ8e8",
        "outputId": "bda14901-6efb-4140-b1fd-b0933acc7eca"
      },
      "execution_count": null,
      "outputs": [
        {
          "output_type": "execute_result",
          "data": {
            "text/plain": [
              "x**2/4 + 4*log(x + 2) - 3*log(x + 3)"
            ],
            "text/latex": "$\\displaystyle \\frac{x^{2}}{4} + 4 \\log{\\left(x + 2 \\right)} - 3 \\log{\\left(x + 3 \\right)}$"
          },
          "metadata": {},
          "execution_count": 82
        }
      ]
    },
    {
      "cell_type": "code",
      "source": [
        "parts = sp.apart(gx)"
      ],
      "metadata": {
        "id": "K8hYG5MiKLjh"
      },
      "execution_count": null,
      "outputs": []
    },
    {
      "cell_type": "code",
      "source": [
        "eq1 = x/2\n",
        "eq1 = sp.integrate(eq1)\n"
      ],
      "metadata": {
        "id": "mYmffo9xKm7F"
      },
      "execution_count": null,
      "outputs": []
    },
    {
      "cell_type": "code",
      "source": [
        "eq2 = (-3)/(x+3)\n",
        "eq2 = sp.integrate(eq2)"
      ],
      "metadata": {
        "id": "2gcZ_tlgKv-g"
      },
      "execution_count": null,
      "outputs": []
    },
    {
      "cell_type": "code",
      "source": [
        "eq3 = 4/(x+2)\n",
        "eq3 = sp.integrate(eq3)"
      ],
      "metadata": {
        "id": "Eb8-AM9WK4II"
      },
      "execution_count": null,
      "outputs": []
    },
    {
      "cell_type": "code",
      "source": [
        "result = eq1 + eq2 + eq3\n",
        "result"
      ],
      "metadata": {
        "colab": {
          "base_uri": "https://localhost:8080/",
          "height": 54
        },
        "id": "c4sTaEs8LDZ_",
        "outputId": "68ff6fc0-1458-4380-8196-f5e62b8f87f2"
      },
      "execution_count": null,
      "outputs": [
        {
          "output_type": "execute_result",
          "data": {
            "text/plain": [
              "x**2/4 + 4*log(x + 2) - 3*log(x + 3)"
            ],
            "text/latex": "$\\displaystyle \\frac{x^{2}}{4} + 4 \\log{\\left(x + 2 \\right)} - 3 \\log{\\left(x + 3 \\right)}$"
          },
          "metadata": {},
          "execution_count": 87
        }
      ]
    },
    {
      "cell_type": "code",
      "source": [
        "sp.plot(gx, (x, -4, 1), ())"
      ],
      "metadata": {
        "colab": {
          "base_uri": "https://localhost:8080/",
          "height": 504
        },
        "id": "kD9t3q-hLZ1r",
        "outputId": "625d3902-7e1d-4eb5-ba79-6a360e6f325d"
      },
      "execution_count": null,
      "outputs": [
        {
          "output_type": "display_data",
          "data": {
            "text/plain": [
              "<Figure size 640x480 with 1 Axes>"
            ],
            "image/png": "[encoded data removed]"
          },
          "metadata": {}
        },
        {
          "output_type": "execute_result",
          "data": {
            "text/plain": [
              "<sympy.plotting.plot.Plot at 0x7a063dd021d0>"
            ]
          },
          "metadata": {},
          "execution_count": 90
        }
      ]
    },
    {
      "cell_type": "code",
      "source": [
        "sp.plot(result, (x, -4,1))"
      ],
      "metadata": {
        "colab": {
          "base_uri": "https://localhost:8080/",
          "height": 504
        },
        "id": "qCa-QAOVLe2f",
        "outputId": "015c057e-2dbd-4cd9-8ed1-5cd98fff3f44"
      },
      "execution_count": null,
      "outputs": [
        {
          "output_type": "display_data",
          "data": {
            "text/plain": [
              "<Figure size 640x480 with 1 Axes>"
            ],
            "image/png": "[encoded data removed]"
          },
          "metadata": {}
        },
        {
          "output_type": "execute_result",
          "data": {
            "text/plain": [
              "<sympy.plotting.plot.Plot at 0x7a063dd12860>"
            ]
          },
          "metadata": {},
          "execution_count": 89
        }
      ]
    },
    {
      "cell_type": "markdown",
      "source": [
        "### 4. Gamma function\n",
        "\n",
        "Define the following function using an integral expression (noting that infinity is `sp.oo`),\n",
        "$$\\Gamma(t) = \\int_0^\\infty x^{t-1}\\,e^{-x} dx.$$\n",
        "This is known as the \"gamma function\" when $t>0$ (for real $t$).\n",
        "\n",
        "Define a *python* function that returns the float value obtained after substituting the given argument for `t` in the defined integral expression for $\\Gamma(t)$.\n",
        "\n",
        "Evaluate this python function for the first 10 positive integers. Do you recognize this function?"
      ],
      "metadata": {
        "id": "MSda8KEMmSvz"
      }
    },
    {
      "cell_type": "code",
      "source": [
        "# creating the variables\n",
        "x, t = sp.symbols(\"x, t\")\n",
        "# declaring function\n",
        "gammaf = (x**(t-1))*(sp.exp(-x))\n",
        "# integrating gammaf from 0 -> infinity\n",
        "result = sp.integrate(gammaf, (x, 0, sp.oo))\n",
        "result"
      ],
      "metadata": {
        "id": "Vj5K3Y7ZpHYY",
        "colab": {
          "base_uri": "https://localhost:8080/",
          "height": 83
        },
        "outputId": "c0c795ca-d78e-4e55-d4a2-cf09b248ac52"
      },
      "execution_count": null,
      "outputs": [
        {
          "output_type": "execute_result",
          "data": {
            "text/plain": [
              "Piecewise((gamma(t), re(t) > 0), (Integral(x**(t - 1)*exp(-x), (x, 0, oo)), True))"
            ],
            "text/latex": "$\\displaystyle \\begin{cases} \\Gamma\\left(t\\right) & \\text{for}\\: \\operatorname{re}{\\left(t\\right)} > 0 \\\\\\int\\limits_{0}^{\\infty} x^{t - 1} e^{- x}\\, dx & \\text{otherwise} \\end{cases}$"
          },
          "metadata": {},
          "execution_count": 7
        }
      ]
    },
    {
      "cell_type": "code",
      "source": [
        "# creating function for gamma function\n",
        "def gamma_function(t):\n",
        "  #plugs in input t\n",
        "  gammaf = (x**(t-1))*(sp.exp(-x))\n",
        "  # returns the value after integrating\n",
        "  return sp.integrate(gammaf, (x, 0, sp.oo))\n"
      ],
      "metadata": {
        "id": "ZQsrZcx0TEl4"
      },
      "execution_count": null,
      "outputs": []
    },
    {
      "cell_type": "code",
      "source": [
        "# goes through 1-10 and plugs in the value into the gamma funtion\n",
        "for i in range(1,11):\n",
        "  print(gamma_function(i))"
      ],
      "metadata": {
        "colab": {
          "base_uri": "https://localhost:8080/"
        },
        "id": "FS8KM_FwTSEG",
        "outputId": "f74cd225-47b5-4f36-d80f-459229d2b631"
      },
      "execution_count": null,
      "outputs": [
        {
          "output_type": "stream",
          "name": "stdout",
          "text": [
            "1\n",
            "1\n",
            "2\n",
            "6\n",
            "24\n",
            "120\n",
            "720\n",
            "5040\n",
            "40320\n",
            "362880\n"
          ]
        }
      ]
    },
    {
      "cell_type": "markdown",
      "source": [
        "I do not recognize this function."
      ],
      "metadata": {
        "id": "Cn4ocSV_TsPa"
      }
    },
    {
      "cell_type": "markdown",
      "source": [
        "## Self-reflection\n",
        "\n",
        "After you have completed the assignment and cleaned up the notebook to be ready to turn in, answer the following questions:\n",
        "\n",
        "- Analyze what you found useful about this assignment in your own words. Include any lingering questions or comments that you may have."
      ],
      "metadata": {
        "id": "9OehJ1qUw1cA"
      }
    },
    {
      "cell_type": "markdown",
      "source": [
        "I found working with SymPy very useful because these mathematical functions are soon going to become cruical as I start to work with scientific computing more. I knew that it was possible to do all these functions in python somehow, but I never knew how easy it was and how flexible python is with it's syntax.\n",
        "\n",
        "\n",
        "I really enjoyed this assignment and i'm excited to learn more Python libraries in this class."
      ],
      "metadata": {
        "id": "QhkKk1Yhxgia"
      }
    },
    {
      "cell_type": "markdown",
      "source": [
        " - Please sign the following honor pledge confirming that this is all your work.\n",
        "\n",
        "> I pledge that all the work in this repository is my own with only the following exceptions: Content of starter files supplied by the instructor; Code borrowed from another source, documented with correct attribution in the code and summarized here.\n",
        "\n",
        "Signed,"
      ],
      "metadata": {
        "id": "1JIH2-RYxhAX"
      }
    },
    {
      "cell_type": "markdown",
      "source": [
        "Andrew Bahsoun, Max Richter"
      ],
      "metadata": {
        "id": "1lnucMwvxtOm"
      }
    }
  ]
}