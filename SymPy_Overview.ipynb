{
 "cells": [
  {
   "cell_type": "markdown",
   "metadata": {
    "id": "9YLhooVfTatP",
    "slideshow": {
     "slide_type": "slide"
    }
   },
   "source": [
    "# SymPy Overview Presentation\n",
    "\n",
    "By Andrew Bahsoun & Max Richter\n",
    "\n",
    "Assignment Completed: 02/19/24   \n",
    "Presentation: 05/02/24"
   ]
  },
  {
   "cell_type": "markdown",
   "metadata": {
    "id": "AaPvRmVoTyTi",
    "slideshow": {
     "slide_type": "slide"
    }
   },
   "source": [
    "## Introduction to SymPy\n",
    "\n",
    "`sympy` stand for \"Symbolic Python\" and is a powerful module for performing analytic mathematical calculations without the constraints of usual numeric types. By convention, its name is shortened to `sp` when imported.\n",
    "\n",
    "In this presentation, we will talk about some of the things that SymPy allows us to do that regular python cant do. Then we will compare SymPy to NumPy, another Python Libary. Finally, we will show some example exercises."
   ]
  },
  {
   "cell_type": "markdown",
   "metadata": {
    "id": "GECyL2TzWLZ0",
    "slideshow": {
     "slide_type": "slide"
    }
   },
   "source": [
    "## Symbols and Expressions\n",
    "\n",
    "The simplest use for `sympy` is to manipulate \"expressions\" containing algebraic variables. You need to declare which text symbols should be treated as mathematical symbols as follows:"
   ]
  },
  {
   "cell_type": "code",
   "execution_count": 2,
   "metadata": {
    "id": "HFejCGLlTooW",
    "slideshow": {
     "slide_type": "fragment"
    }
   },
   "outputs": [],
   "source": [
    "x, y, z, t = sp.symbols(\"x, y, z, t\")"
   ]
  },
  {
   "cell_type": "code",
   "execution_count": null,
   "metadata": {
    "colab": {
     "base_uri": "https://localhost:8080/"
    },
    "id": "fEgBUDfITvYl",
    "outputId": "dde5cd39-72ee-46ec-dec1-177984aa5f06",
    "slideshow": {
     "slide_type": "fragment"
    }
   },
   "outputs": [
    {
     "data": {
      "text/plain": [
       "sympy.core.symbol.Symbol"
      ]
     },
     "execution_count": 3,
     "metadata": {},
     "output_type": "execute_result"
    }
   ],
   "source": [
    "type(x)"
   ]
  },
  {
   "cell_type": "code",
   "execution_count": 8,
   "metadata": {
    "id": "M3hgEC4bUsPs",
    "slideshow": {
     "slide_type": "fragment"
    }
   },
   "outputs": [],
   "source": [
    "e1 = x + 1"
   ]
  },
  {
   "cell_type": "code",
   "execution_count": 9,
   "metadata": {
    "colab": {
     "base_uri": "https://localhost:8080/"
    },
    "id": "BXZtTY_xU-J-",
    "outputId": "66fc2ec0-f557-421b-b183-d8a4b85fbe1c",
    "slideshow": {
     "slide_type": "fragment"
    }
   },
   "outputs": [
    {
     "data": {
      "text/plain": [
       "sympy.core.add.Add"
      ]
     },
     "execution_count": 9,
     "metadata": {},
     "output_type": "execute_result"
    }
   ],
   "source": [
    "type(e1)"
   ]
  },
  {
   "cell_type": "code",
   "execution_count": 10,
   "metadata": {
    "colab": {
     "base_uri": "https://localhost:8080/",
     "height": 39
    },
    "id": "1vA9kkzqU_H2",
    "outputId": "92dd84a3-aff7-4596-b646-8b1572d38ce9",
    "slideshow": {
     "slide_type": "fragment"
    }
   },
   "outputs": [
    {
     "data": {
      "text/latex": [
       "$\\displaystyle x + 1$"
      ],
      "text/plain": [
       "x + 1"
      ]
     },
     "execution_count": 10,
     "metadata": {},
     "output_type": "execute_result"
    }
   ],
   "source": [
    "e1"
   ]
  },
  {
   "cell_type": "markdown",
   "metadata": {
    "id": "o7U0xXUeXVE3",
    "slideshow": {
     "slide_type": "slide"
    }
   },
   "source": [
    "You can use these expressions to make sure you have done your work correctly as well. "
   ]
  },
  {
   "cell_type": "code",
   "execution_count": 11,
   "metadata": {
    "colab": {
     "base_uri": "https://localhost:8080/"
    },
    "id": "0WtCGTKjXoMB",
    "outputId": "5189c562-fb7b-4c6e-a1ad-1637a480bd70",
    "slideshow": {
     "slide_type": "fragment"
    }
   },
   "outputs": [
    {
     "data": {
      "text/latex": [
       "$\\displaystyle \\text{True}$"
      ],
      "text/plain": [
       "True"
      ]
     },
     "execution_count": 11,
     "metadata": {},
     "output_type": "execute_result"
    }
   ],
   "source": [
    "sp.simplify(e1 - (x +1) == 0)"
   ]
  },
  {
   "cell_type": "markdown",
   "metadata": {
    "id": "RXvGF4yznSZj",
    "slideshow": {
     "slide_type": "fragment"
    }
   },
   "source": [
    "To substitute values into an algebraic expression, use the method `.subs` of that expression:"
   ]
  },
  {
   "cell_type": "code",
   "execution_count": 19,
   "metadata": {
    "colab": {
     "base_uri": "https://localhost:8080/",
     "height": 51
    },
    "id": "pZzfcC1foNcP",
    "outputId": "00dacf3d-473a-41f2-a66c-1a4ce7516b98",
    "slideshow": {
     "slide_type": "fragment"
    }
   },
   "outputs": [
    {
     "data": {
      "text/latex": [
       "$\\displaystyle 3$"
      ],
      "text/plain": [
       "3"
      ]
     },
     "execution_count": 19,
     "metadata": {},
     "output_type": "execute_result"
    }
   ],
   "source": [
    "sp.simplify(e1.subs(x, 2))"
   ]
  },
  {
   "cell_type": "markdown",
   "metadata": {
    "id": "5snbmL7An6Nz",
    "slideshow": {
     "slide_type": "slide"
    }
   },
   "source": [
    "To evaluate a numeric expression into floats (to do actual numerical calculations with), use the method `.evalf()`:"
   ]
  },
  {
   "cell_type": "code",
   "execution_count": 13,
   "metadata": {
    "colab": {
     "base_uri": "https://localhost:8080/",
     "height": 37
    },
    "id": "01kkK0U-oHcL",
    "outputId": "a2e38e58-e87d-4b71-9726-1f74064516b4",
    "slideshow": {
     "slide_type": "fragment"
    }
   },
   "outputs": [
    {
     "data": {
      "text/latex": [
       "$\\displaystyle 3.0$"
      ],
      "text/plain": [
       "3.00000000000000"
      ]
     },
     "execution_count": 13,
     "metadata": {},
     "output_type": "execute_result"
    }
   ],
   "source": [
    "e1.subs(x, 2).evalf()"
   ]
  },
  {
   "cell_type": "markdown",
   "metadata": {},
   "source": [
    "You can also substitute entire expressions into a variable, not just numbers:"
   ]
  },
  {
   "cell_type": "code",
   "execution_count": 18,
   "metadata": {
    "slideshow": {
     "slide_type": "fragment"
    }
   },
   "outputs": [
    {
     "data": {
      "text/latex": [
       "$\\displaystyle 2 x + 2$"
      ],
      "text/plain": [
       "2*x + 2"
      ]
     },
     "execution_count": 18,
     "metadata": {},
     "output_type": "execute_result"
    }
   ],
   "source": [
    "e2 = 2*x\n",
    "e2.subs(x, e1)"
   ]
  },
  {
   "cell_type": "markdown",
   "metadata": {
    "id": "cGXuuEh5Vlof",
    "slideshow": {
     "slide_type": "slide"
    }
   },
   "source": [
    "## Numeric Precision\n",
    "\n",
    "Unlike with numeric types, symbolic types can have infinite precision. You can see this when dealing with square roots or other operations that produce irrational numbers (that can't be stored numerically without error).\n",
    "\n",
    "Compare the `numpy` implementation of square root or the number pi, which returns a finite precision `float`:"
   ]
  },
  {
   "cell_type": "code",
   "execution_count": null,
   "metadata": {
    "colab": {
     "base_uri": "https://localhost:8080/"
    },
    "id": "J1fvsGc6V3KN",
    "outputId": "044c813e-812d-452f-dccd-043985a2ebe6",
    "slideshow": {
     "slide_type": "fragment"
    }
   },
   "outputs": [
    {
     "data": {
      "text/plain": [
       "1.4142135623730951"
      ]
     },
     "execution_count": 20,
     "metadata": {},
     "output_type": "execute_result"
    }
   ],
   "source": [
    "np.sqrt(2)"
   ]
  },
  {
   "cell_type": "code",
   "execution_count": null,
   "metadata": {
    "colab": {
     "base_uri": "https://localhost:8080/"
    },
    "id": "dE9y9hSEYBWW",
    "outputId": "faf2c14b-82d1-4f2e-e804-a3e6f3d8a36d",
    "slideshow": {
     "slide_type": "fragment"
    }
   },
   "outputs": [
    {
     "data": {
      "text/plain": [
       "3.141592653589793"
      ]
     },
     "execution_count": 21,
     "metadata": {},
     "output_type": "execute_result"
    }
   ],
   "source": [
    "np.pi"
   ]
  },
  {
   "cell_type": "code",
   "execution_count": null,
   "metadata": {
    "colab": {
     "base_uri": "https://localhost:8080/"
    },
    "id": "ywAL9n9IVHIU",
    "outputId": "15390889-65a4-41db-aac8-b246b289dacb",
    "slideshow": {
     "slide_type": "fragment"
    }
   },
   "outputs": [
    {
     "data": {
      "text/plain": [
       "2.0000000000000004"
      ]
     },
     "execution_count": 22,
     "metadata": {},
     "output_type": "execute_result"
    }
   ],
   "source": [
    "np.sqrt(2)**2"
   ]
  },
  {
   "cell_type": "markdown",
   "metadata": {
    "id": "cReTBEi7WCUD",
    "slideshow": {
     "slide_type": "slide"
    }
   },
   "source": [
    "to the `sympy` implementation of square root, which retains infinite precision when possible:"
   ]
  },
  {
   "cell_type": "code",
   "execution_count": null,
   "metadata": {
    "colab": {
     "base_uri": "https://localhost:8080/",
     "height": 38
    },
    "id": "YwaXRIW2V5sZ",
    "outputId": "160ef28f-be32-4419-989d-f3b8e252607d",
    "slideshow": {
     "slide_type": "fragment"
    }
   },
   "outputs": [
    {
     "data": {
      "text/latex": [
       "$\\displaystyle \\sqrt{2}$"
      ],
      "text/plain": [
       "sqrt(2)"
      ]
     },
     "execution_count": 23,
     "metadata": {},
     "output_type": "execute_result"
    }
   ],
   "source": [
    "sp.sqrt(2)"
   ]
  },
  {
   "cell_type": "code",
   "execution_count": null,
   "metadata": {
    "colab": {
     "base_uri": "https://localhost:8080/",
     "height": 38
    },
    "id": "AyGFlNURYGHn",
    "outputId": "aabf5e48-572f-4813-eeaf-a286c9a05b90",
    "slideshow": {
     "slide_type": "fragment"
    }
   },
   "outputs": [
    {
     "data": {
      "text/latex": [
       "$\\displaystyle \\pi$"
      ],
      "text/plain": [
       "pi"
      ]
     },
     "execution_count": 24,
     "metadata": {},
     "output_type": "execute_result"
    }
   ],
   "source": [
    "sp.pi"
   ]
  },
  {
   "cell_type": "code",
   "execution_count": null,
   "metadata": {
    "colab": {
     "base_uri": "https://localhost:8080/",
     "height": 37
    },
    "id": "4qUVadPuVz6c",
    "outputId": "b2073eea-ca5e-401d-fbb4-30b745a92595",
    "slideshow": {
     "slide_type": "fragment"
    }
   },
   "outputs": [
    {
     "data": {
      "text/latex": [
       "$\\displaystyle 2$"
      ],
      "text/plain": [
       "2"
      ]
     },
     "execution_count": 25,
     "metadata": {},
     "output_type": "execute_result"
    }
   ],
   "source": [
    "sp.sqrt(2)**2"
   ]
  },
  {
   "cell_type": "markdown",
   "metadata": {
    "id": "FKmIxP9zbhq_",
    "slideshow": {
     "slide_type": "slide"
    }
   },
   "source": [
    "## Equations\n",
    "\n",
    "To create an equation that you wish to solve for a particular variable, use the syntax:"
   ]
  },
  {
   "cell_type": "code",
   "execution_count": null,
   "metadata": {
    "colab": {
     "base_uri": "https://localhost:8080/",
     "height": 38
    },
    "id": "IsmCU4AGbqfC",
    "outputId": "ea1cc8f3-e034-45d2-eccb-d1b2ffca20fe",
    "slideshow": {
     "slide_type": "fragment"
    }
   },
   "outputs": [
    {
     "data": {
      "text/latex": [
       "$\\displaystyle x^{2} = 1$"
      ],
      "text/plain": [
       "Eq(x**2, 1)"
      ]
     },
     "execution_count": 28,
     "metadata": {},
     "output_type": "execute_result"
    }
   ],
   "source": [
    "e3 = sp.Eq(x**2, 1)\n",
    "e3"
   ]
  },
  {
   "cell_type": "markdown",
   "metadata": {
    "id": "vlRP1VJCbxz-",
    "slideshow": {
     "slide_type": "fragment"
    }
   },
   "source": [
    "You can then solve such an equation for a particular variable using `sp.solveset` or `sp.solve` or `sp.linsolve` or `sp.nonlinsolve`:"
   ]
  },
  {
   "cell_type": "code",
   "execution_count": null,
   "metadata": {
    "colab": {
     "base_uri": "https://localhost:8080/",
     "height": 37
    },
    "id": "Jjc5ug-db14H",
    "outputId": "bc339511-a1d2-4603-e6a3-dbfb5dbeed9a",
    "slideshow": {
     "slide_type": "fragment"
    }
   },
   "outputs": [
    {
     "data": {
      "text/latex": [
       "$\\displaystyle \\left\\{-1, 1\\right\\}$"
      ],
      "text/plain": [
       "{-1, 1}"
      ]
     },
     "execution_count": 29,
     "metadata": {},
     "output_type": "execute_result"
    }
   ],
   "source": [
    "sp.solveset(e3, x)"
   ]
  },
  {
   "cell_type": "markdown",
   "metadata": {
    "id": "Z6Plxd1QY0LD",
    "slideshow": {
     "slide_type": "slide"
    }
   },
   "source": [
    "## Calculus\n",
    "\n",
    "In addition to basic algebraic operations, `sympy` also has calculus features, like differentiation:"
   ]
  },
  {
   "cell_type": "code",
   "execution_count": null,
   "metadata": {
    "colab": {
     "base_uri": "https://localhost:8080/",
     "height": 38
    },
    "id": "581A5WmvYW-b",
    "outputId": "130fd312-6a4a-4506-8a86-c8e39ee3809e",
    "slideshow": {
     "slide_type": "fragment"
    }
   },
   "outputs": [
    {
     "data": {
      "text/latex": [
       "$\\displaystyle x + 1$"
      ],
      "text/plain": [
       "x + 1"
      ]
     },
     "execution_count": 33,
     "metadata": {},
     "output_type": "execute_result"
    }
   ],
   "source": [
    "e1"
   ]
  },
  {
   "cell_type": "code",
   "execution_count": null,
   "metadata": {
    "colab": {
     "base_uri": "https://localhost:8080/",
     "height": 37
    },
    "id": "7DyJGzdLY9B5",
    "outputId": "4a049910-cf35-4705-b27e-03e973abe7e4",
    "slideshow": {
     "slide_type": "fragment"
    }
   },
   "outputs": [
    {
     "data": {
      "text/latex": [
       "$\\displaystyle 1$"
      ],
      "text/plain": [
       "1"
      ]
     },
     "execution_count": 34,
     "metadata": {},
     "output_type": "execute_result"
    }
   ],
   "source": [
    "sp.diff(e1, x)"
   ]
  },
  {
   "cell_type": "markdown",
   "metadata": {
    "id": "SQTVhl3GZFhk",
    "slideshow": {
     "slide_type": "slide"
    }
   },
   "source": [
    "and integration (which without arguments is antidifferentiation assuming a zero added constant):\n",
    "\n"
   ]
  },
  {
   "cell_type": "code",
   "execution_count": null,
   "metadata": {
    "colab": {
     "base_uri": "https://localhost:8080/",
     "height": 54
    },
    "id": "i-QWX3PXZCKv",
    "outputId": "bbb8f5c4-ab50-43fc-9d1e-112e116e5b27",
    "slideshow": {
     "slide_type": "fragment"
    }
   },
   "outputs": [
    {
     "data": {
      "text/latex": [
       "$\\displaystyle \\frac{x^{2}}{2} + x$"
      ],
      "text/plain": [
       "x**2/2 + x"
      ]
     },
     "execution_count": 37,
     "metadata": {},
     "output_type": "execute_result"
    }
   ],
   "source": [
    "sp.integrate(e1)"
   ]
  },
  {
   "cell_type": "markdown",
   "metadata": {
    "id": "b7Z-xJeHaBiA",
    "slideshow": {
     "slide_type": "slide"
    }
   },
   "source": [
    "`sympy` can also take limits of expressions:"
   ]
  },
  {
   "cell_type": "code",
   "execution_count": null,
   "metadata": {
    "colab": {
     "base_uri": "https://localhost:8080/",
     "height": 37
    },
    "id": "RJapRzjAZhZ2",
    "outputId": "81dd1c90-5faf-417e-c3ef-206082cc0f07",
    "slideshow": {
     "slide_type": "fragment"
    }
   },
   "outputs": [
    {
     "data": {
      "text/latex": [
       "$\\displaystyle 1$"
      ],
      "text/plain": [
       "1"
      ]
     },
     "execution_count": 42,
     "metadata": {},
     "output_type": "execute_result"
    }
   ],
   "source": [
    "sp.limit(sp.sin(x)/x, x, 0)"
   ]
  },
  {
   "cell_type": "markdown",
   "metadata": {
    "id": "BDFsaQ1QaR4y",
    "slideshow": {
     "slide_type": "slide"
    }
   },
   "source": [
    "or compute Taylor expansions:"
   ]
  },
  {
   "cell_type": "code",
   "execution_count": null,
   "metadata": {
    "colab": {
     "base_uri": "https://localhost:8080/",
     "height": 54
    },
    "id": "xy-VlUklaKgJ",
    "outputId": "945bdc56-8b6b-467d-f768-06910ece82ab",
    "slideshow": {
     "slide_type": "fragment"
    }
   },
   "outputs": [
    {
     "data": {
      "text/latex": [
       "$\\displaystyle 1 + x + \\frac{x^{2}}{2} + \\frac{x^{3}}{6} + O\\left(x^{4}\\right)$"
      ],
      "text/plain": [
       "1 + x + x**2/2 + x**3/6 + O(x**4)"
      ]
     },
     "execution_count": 43,
     "metadata": {},
     "output_type": "execute_result"
    }
   ],
   "source": [
    "sp.exp(x).series(x, 0, 4)"
   ]
  },
  {
   "cell_type": "markdown",
   "metadata": {
    "id": "6WbObqqkd0qS",
    "slideshow": {
     "slide_type": "slide"
    }
   },
   "source": [
    "## Plotting\n",
    "\n",
    "Another useful feature of `sympy` is that it hooks into `matplotlib` to make plotting functions very convenient."
   ]
  },
  {
   "cell_type": "code",
   "execution_count": 4,
   "metadata": {
    "colab": {
     "base_uri": "https://localhost:8080/",
     "height": 504
    },
    "id": "CL_dsxjSd8QN",
    "outputId": "7dedcbbd-3ec2-406e-b78c-0716fdd42542",
    "slideshow": {
     "slide_type": "fragment"
    }
   },
   "outputs": [
    {
     "data": {
      "image/png": "[encoded data removed]",
      "text/plain": [
       "<Figure size 400x300 with 1 Axes>"
      ]
     },
     "metadata": {},
     "output_type": "display_data"
    },
    {
     "data": {
      "text/plain": [
       "<sympy.plotting.plot.Plot at 0x1148910d0>"
      ]
     },
     "execution_count": 4,
     "metadata": {},
     "output_type": "execute_result"
    }
   ],
   "source": [
    "import sympy as sp\n",
    "sp.plot(sp.sin(x), sp.cos(x), sp.tan(x), (x, 0, 2*sp.pi), title=\"Trig functions\", legend=True, ylim=(-2, 2), size=(4, 3))"
   ]
  },
  {
   "cell_type": "markdown",
   "metadata": {
    "id": "N0_ZJmRAfwVq",
    "slideshow": {
     "slide_type": "slide"
    }
   },
   "source": [
    "### 1. Function extrema\n",
    "\n",
    "We can use SymPy to find the extrema of the function $g(x) = 4 x^3 + 3 x^2 - 6 x - 1$. And plot it. "
   ]
  },
  {
   "cell_type": "code",
   "execution_count": 6,
   "metadata": {
    "colab": {
     "base_uri": "https://localhost:8080/",
     "height": 39
    },
    "id": "ab9MdiMKeG1f",
    "outputId": "7d25aa00-2fa0-476e-c6bd-427b1dfc6e6a",
    "slideshow": {
     "slide_type": "fragment"
    }
   },
   "outputs": [
    {
     "data": {
      "text/latex": [
       "$\\displaystyle 4 x^{3} + 3 x^{2} - 6 x - 1$"
      ],
      "text/plain": [
       "4*x**3 + 3*x**2 - 6*x - 1"
      ]
     },
     "execution_count": 6,
     "metadata": {},
     "output_type": "execute_result"
    }
   ],
   "source": [
    "# create the function g(x)\n",
    "x = sp.symbols('x')\n",
    "gx = 4*x**3 + 3*x**2 - 6*x - 1\n",
    "gx"
   ]
  },
  {
   "cell_type": "code",
   "execution_count": 7,
   "metadata": {
    "colab": {
     "base_uri": "https://localhost:8080/",
     "height": 39
    },
    "id": "ZFOH1wsgJp6A",
    "outputId": "a79d4315-1900-4d43-c002-48b22371083c",
    "slideshow": {
     "slide_type": "slide"
    }
   },
   "outputs": [
    {
     "data": {
      "text/latex": [
       "$\\displaystyle 12 x^{2} + 6 x - 6 = 0$"
      ],
      "text/plain": [
       "Eq(12*x**2 + 6*x - 6, 0)"
      ]
     },
     "execution_count": 7,
     "metadata": {},
     "output_type": "execute_result"
    }
   ],
   "source": [
    "# take the derivative of g(x)\n",
    "gxp = sp.diff(gx)\n",
    "gxp\n",
    "#make gxp an equation\n",
    "gxp_eq = sp.Eq(gxp, 0)\n",
    "gxp_eq"
   ]
  },
  {
   "cell_type": "code",
   "execution_count": 8,
   "metadata": {
    "colab": {
     "base_uri": "https://localhost:8080/"
    },
    "id": "FVNmoWOLMQEI",
    "outputId": "c28540a0-d7b4-4383-eaee-27f51c905b84",
    "slideshow": {
     "slide_type": "fragment"
    }
   },
   "outputs": [
    {
     "data": {
      "text/plain": [
       "[-1, 1/2]"
      ]
     },
     "execution_count": 8,
     "metadata": {},
     "output_type": "execute_result"
    }
   ],
   "source": [
    "#solve for x and find critical points (location of extrema)\n",
    "#converts to list to be accessed later\n",
    "solutions_list = list(sp.solveset(gxp_eq, x))\n",
    "solutions_list"
   ]
  },
  {
   "cell_type": "code",
   "execution_count": 9,
   "metadata": {
    "colab": {
     "base_uri": "https://localhost:8080/"
    },
    "id": "pQH0zgJCNfgc",
    "outputId": "9714f901-4049-4c67-c8e8-c7a0805e4bd0",
    "slideshow": {
     "slide_type": "slide"
    }
   },
   "outputs": [
    {
     "name": "stdout",
     "output_type": "stream",
     "text": [
      "-18\n",
      "18.0000000000000\n"
     ]
    }
   ],
   "source": [
    "# get second derirvative of gx\n",
    "gxp2 = sp.diff(gxp)\n",
    "gxp2\n",
    "\n",
    "#take value of extrema as variable\n",
    "val_gxp2e = gxp2.subs(x, -1)\n",
    "val_gxp2e2 = gxp2.subs(x, 1/2)\n",
    "\n",
    "# if the value is positive, it is minima, if it is negative, it is maxima\n",
    "\n",
    "#logic for determinding minima or maxima\n",
    "print(val_gxp2e) # for -1\n",
    "print(val_gxp2e2) # for 1/2"
   ]
  },
  {
   "cell_type": "code",
   "execution_count": 10,
   "metadata": {
    "colab": {
     "base_uri": "https://localhost:8080/",
     "height": 503
    },
    "id": "Uep6p7V0PHhe",
    "outputId": "701dcc30-47fc-462d-8db7-c5b056f15dab",
    "slideshow": {
     "slide_type": "slide"
    }
   },
   "outputs": [
    {
     "data": {
      "image/png": "[encoded data removed]",
      "text/plain": [
       "<Figure size 400x300 with 1 Axes>"
      ]
     },
     "metadata": {},
     "output_type": "display_data"
    },
    {
     "data": {
      "text/plain": [
       "<sympy.plotting.plot.Plot at 0x1147d4750>"
      ]
     },
     "execution_count": 10,
     "metadata": {},
     "output_type": "execute_result"
    }
   ],
   "source": [
    "#plot graph using sp\n",
    "sp.plot((gx), title=\"g(x) graph\", legend=True, ylim=(-10, 10), xlim=(-3,3), size=(4, 3))\n",
    "# the graph shows that there is a maximum at -1 and minima and 1/2,\n",
    "# this corresponds to our information in the logic"
   ]
  },
  {
   "cell_type": "markdown",
   "metadata": {
    "id": "XJebU0ODhEE-",
    "slideshow": {
     "slide_type": "slide"
    }
   },
   "source": [
    "### 2. Particle motion\n",
    "\n",
    "The parametric equations for the motion of a charged particle released from rest in electric and magnetic fields at right angles to each other take the forms,\n",
    "$$ x(\\theta) = a(\\theta - \\sin\\theta),$$\n",
    "$$ y(\\theta) = a(1 - \\cos\\theta),$$\n",
    "with a real constant $a$.\n",
    "\n",
    "Show that the line tangent to this curve at the point $(x(\\theta),y(\\theta))$ has the slope $\\displaystyle \\frac{dy}{dx}(\\theta) = \\frac{(dy/d\\theta)(\\theta)}{(dx/d\\theta)(\\theta)}= \\cot(\\theta/2)$.\n",
    "\n",
    "Where does this slope vanish? Where does the slope diverge?\n",
    "\n",
    "Plot the curve of the particle parametrically to see what this looks like. Explain where the points are on the curve where the slope vanishes or diverges."
   ]
  },
  {
   "cell_type": "code",
   "execution_count": null,
   "metadata": {
    "id": "4Ck1pILSEPle",
    "slideshow": {
     "slide_type": "slide"
    }
   },
   "outputs": [],
   "source": [
    "x = sp.symbols('x')\n",
    "y = sp.symbols('y')\n",
    "theta = sp.symbols('theta')\n",
    "a = sp.symbols('a', constant=True)"
   ]
  },
  {
   "cell_type": "code",
   "execution_count": null,
   "metadata": {
    "colab": {
     "base_uri": "https://localhost:8080/",
     "height": 39
    },
    "id": "SrFPSenIMPK2",
    "outputId": "9d609446-96f0-4802-fe17-e4bb91f2494a",
    "slideshow": {
     "slide_type": "fragment"
    }
   },
   "outputs": [
    {
     "data": {
      "text/latex": [
       "$\\displaystyle \\theta - \\sin{\\left(\\theta \\right)}$"
      ],
      "text/plain": [
       "theta - sin(theta)"
      ]
     },
     "execution_count": 53,
     "metadata": {},
     "output_type": "execute_result"
    }
   ],
   "source": [
    "xtheta = a*(theta - sp.sin(theta))\n",
    "xtheta"
   ]
  },
  {
   "cell_type": "code",
   "execution_count": null,
   "metadata": {
    "colab": {
     "base_uri": "https://localhost:8080/",
     "height": 39
    },
    "id": "bLt7C9qHjzBh",
    "outputId": "42f46c4e-4c23-4ab8-ce25-bd1ec8e45ae3",
    "slideshow": {
     "slide_type": "fragment"
    }
   },
   "outputs": [
    {
     "data": {
      "text/latex": [
       "$\\displaystyle a \\left(1 - \\cos{\\left(\\theta \\right)}\\right)$"
      ],
      "text/plain": [
       "a*(1 - cos(theta))"
      ]
     },
     "execution_count": 47,
     "metadata": {},
     "output_type": "execute_result"
    }
   ],
   "source": [
    "ytheta = a*(1 - sp.cos(theta))\n",
    "ytheta"
   ]
  },
  {
   "cell_type": "code",
   "execution_count": null,
   "metadata": {
    "colab": {
     "base_uri": "https://localhost:8080/",
     "height": 39
    },
    "id": "IHJyWXUoETPq",
    "outputId": "55f29bdc-11f8-4c96-a1f1-35869a2703d3",
    "slideshow": {
     "slide_type": "fragment"
    }
   },
   "outputs": [
    {
     "data": {
      "text/latex": [
       "$\\displaystyle a \\left(1 - \\cos{\\left(\\theta \\right)}\\right)$"
      ],
      "text/plain": [
       "a*(1 - cos(theta))"
      ]
     },
     "execution_count": 48,
     "metadata": {},
     "output_type": "execute_result"
    }
   ],
   "source": [
    "xthetap = sp.diff(xtheta, theta)\n",
    "xthetap"
   ]
  },
  {
   "cell_type": "code",
   "execution_count": null,
   "metadata": {
    "colab": {
     "base_uri": "https://localhost:8080/",
     "height": 39
    },
    "id": "IIORl9X6E2EN",
    "outputId": "389bdb0b-19c1-4e43-921a-55e039c3f38f",
    "slideshow": {
     "slide_type": "slide"
    }
   },
   "outputs": [
    {
     "data": {
      "text/latex": [
       "$\\displaystyle a \\sin{\\left(\\theta \\right)}$"
      ],
      "text/plain": [
       "a*sin(theta)"
      ]
     },
     "execution_count": 49,
     "metadata": {},
     "output_type": "execute_result"
    }
   ],
   "source": [
    "ythetap = sp.diff(ytheta, theta)\n",
    "ythetap"
   ]
  },
  {
   "cell_type": "code",
   "execution_count": null,
   "metadata": {
    "colab": {
     "base_uri": "https://localhost:8080/",
     "height": 57
    },
    "id": "5YHVDlulE_9k",
    "outputId": "462955f5-7a79-45b5-cb8a-4b034e54c8f2",
    "slideshow": {
     "slide_type": "fragment"
    }
   },
   "outputs": [
    {
     "data": {
      "text/latex": [
       "$\\displaystyle \\frac{\\sin{\\left(\\theta \\right)}}{1 - \\cos{\\left(\\theta \\right)}}$"
      ],
      "text/plain": [
       "sin(theta)/(1 - cos(theta))"
      ]
     },
     "execution_count": 50,
     "metadata": {},
     "output_type": "execute_result"
    }
   ],
   "source": [
    "exp = ythetap/xthetap\n",
    "exp"
   ]
  },
  {
   "cell_type": "code",
   "execution_count": null,
   "metadata": {
    "colab": {
     "base_uri": "https://localhost:8080/",
     "height": 57
    },
    "id": "2YZ-R_ElFXK9",
    "outputId": "5b0114b5-7d6a-4134-aec8-c31ea1f69396",
    "slideshow": {
     "slide_type": "fragment"
    }
   },
   "outputs": [
    {
     "data": {
      "text/latex": [
       "$\\displaystyle \\frac{\\sin{\\left(\\theta \\right)}}{1 - \\cos{\\left(\\theta \\right)}}$"
      ],
      "text/plain": [
       "sin(theta)/(1 - cos(theta))"
      ]
     },
     "execution_count": 51,
     "metadata": {},
     "output_type": "execute_result"
    }
   ],
   "source": [
    "sp.trigsimp(exp)\n",
    "exp"
   ]
  },
  {
   "cell_type": "code",
   "execution_count": null,
   "metadata": {
    "colab": {
     "base_uri": "https://localhost:8080/"
    },
    "id": "AinG8J9XJCXr",
    "outputId": "6d595bb9-db0b-4c14-96ab-bbd1d8c2c73d",
    "slideshow": {
     "slide_type": "slide"
    }
   },
   "outputs": [
    {
     "data": {
      "text/plain": [
       "[]"
      ]
     },
     "execution_count": 59,
     "metadata": {},
     "output_type": "execute_result"
    }
   ],
   "source": [
    "exp2 = sp.cot(theta/2)\n",
    "\n",
    "eq = sp.Eq(exp, exp2)\n",
    "solution = sp.solve(eq)\n",
    "solution"
   ]
  },
  {
   "cell_type": "markdown",
   "metadata": {
    "id": "uF1ffecaJaDS",
    "slideshow": {
     "slide_type": "fragment"
    }
   },
   "source": [
    "solution being empty means the equality holds true"
   ]
  },
  {
   "cell_type": "code",
   "execution_count": null,
   "metadata": {
    "colab": {
     "base_uri": "https://localhost:8080/",
     "height": 501
    },
    "id": "2slos5jXF8dH",
    "outputId": "4098050d-380d-4015-954c-dcc087a20ccc",
    "slideshow": {
     "slide_type": "slide"
    }
   },
   "outputs": [
    {
     "data": {
      "image/png": "[encoded data removed]",
      "text/plain": [
       "<Figure size 640x480 with 1 Axes>"
      ]
     },
     "metadata": {},
     "output_type": "display_data"
    },
    {
     "data": {
      "text/plain": [
       "<sympy.plotting.plot.Plot at 0x7a0649fac460>"
      ]
     },
     "execution_count": 55,
     "metadata": {},
     "output_type": "execute_result"
    }
   ],
   "source": [
    "xtheta_plot = (theta - sp.sin(theta))\n",
    "ytheta_plot = (1 - sp.cos(theta))\n",
    "sp.plot_parametric(xtheta_plot, ytheta_plot, (theta, -sp.pi, sp.pi))"
   ]
  },
  {
   "cell_type": "markdown",
   "metadata": {
    "id": "9OehJ1qUw1cA",
    "slideshow": {
     "slide_type": "slide"
    }
   },
   "source": [
    "## Conclusions and Takeaways\n",
    "\n",
    "In conclusion, symbolic python is an incredibly robust tool that seamlessly integrates symbolic mathematics into the python workflow. By bridging the gap between numerical computations and symbolic expressions, symbolic python allows us to solve complex problems and show our results much more efficiently. "
   ]
  }
 ],
 "metadata": {
  "celltoolbar": "Slideshow",
  "colab": {
   "provenance": []
  },
  "kernelspec": {
   "display_name": "Python 3 (ipykernel)",
   "language": "python",
   "name": "python3"
  },
  "language_info": {
   "codemirror_mode": {
    "name": "ipython",
    "version": 3
   },
   "file_extension": ".py",
   "mimetype": "text/x-python",
   "name": "python",
   "nbconvert_exporter": "python",
   "pygments_lexer": "ipython3",
   "version": "3.11.8"
  }
 },
 "nbformat": 4,
 "nbformat_minor": 1
}
